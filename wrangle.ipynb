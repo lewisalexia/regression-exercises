{
 "cells": [
  {
   "cell_type": "markdown",
   "id": "f0cf0891-21b6-416e-bb63-2f95f52dbfa0",
   "metadata": {},
   "source": [
    "# Initial Exploration and Data Manipulation for Zillow\n",
    "* Single Family Residential (2017)"
   ]
  },
  {
   "cell_type": "markdown",
   "id": "e8ed5217-e34e-4bc6-beea-31f095a16130",
   "metadata": {
    "jp-MarkdownHeadingCollapsed": true,
    "tags": []
   },
   "source": [
    "## <div class=\"alert alert-block alert-info\"> Imports<div>"
   ]
  },
  {
   "cell_type": "code",
   "execution_count": 1,
   "id": "5436ee36-3328-4bf0-bcf5-cbd2da29f01a",
   "metadata": {},
   "outputs": [
    {
     "name": "stdout",
     "output_type": "stream",
     "text": [
      "Load in successful, awaiting commands...\n"
     ]
    }
   ],
   "source": [
    "# My Modules\n",
    "import wrangle_zillow as wr\n",
    "import explore_zillow as ex\n",
    "\n",
    "# Imports\n",
    "import env\n",
    "import os\n",
    "\n",
    "# Numbers\n",
    "import pandas as pd \n",
    "import numpy as np\n",
    "\n",
    "# Vizzes\n",
    "import matplotlib.pyplot as plt\n",
    "import seaborn as sns\n",
    "\n",
    "# Splitting\n",
    "from sklearn.model_selection import train_test_split"
   ]
  },
  {
   "cell_type": "markdown",
   "id": "c54464a7-fa83-4675-a9a8-cd5e499a8e90",
   "metadata": {
    "jp-MarkdownHeadingCollapsed": true,
    "tags": []
   },
   "source": [
    "## <div class=\"alert alert-block alert-info\"> Wrangle</div>\n",
    "\n",
    "Goals Acquire:\n",
    "\n",
    "* get data\n",
    "* cache a local copy\n",
    "* verify it all came in\n",
    "* look at it\n",
    "* understand my data\n",
    "* want to know what which row representations\n",
    "* understand what each column means\n",
    "\n",
    "\n",
    "Goals Prepare:\n",
    "* rename columns\n",
    "* verify/correct datatypes\n",
    "* handle your nulls\n",
    "* visualize our univariate variables\n",
    "* remove outliers"
   ]
  },
  {
   "cell_type": "markdown",
   "id": "c7ed3292-23f0-4360-9d11-550de0d5bb94",
   "metadata": {},
   "source": [
    "### <div class=\"alert alert-block alert-info\">acquire<div>"
   ]
  },
  {
   "cell_type": "code",
   "execution_count": 2,
   "id": "973fb21a-62c4-47c9-94fe-030ec9da743a",
   "metadata": {},
   "outputs": [
    {
     "name": "stdout",
     "output_type": "stream",
     "text": [
      "CSV file found and loaded\n"
     ]
    },
    {
     "data": {
      "text/html": [
       "<div>\n",
       "<style scoped>\n",
       "    .dataframe tbody tr th:only-of-type {\n",
       "        vertical-align: middle;\n",
       "    }\n",
       "\n",
       "    .dataframe tbody tr th {\n",
       "        vertical-align: top;\n",
       "    }\n",
       "\n",
       "    .dataframe thead th {\n",
       "        text-align: right;\n",
       "    }\n",
       "</style>\n",
       "<table border=\"1\" class=\"dataframe\">\n",
       "  <thead>\n",
       "    <tr style=\"text-align: right;\">\n",
       "      <th></th>\n",
       "      <th>bedroomcnt</th>\n",
       "      <th>bathroomcnt</th>\n",
       "      <th>calculatedfinishedsquarefeet</th>\n",
       "      <th>taxvaluedollarcnt</th>\n",
       "      <th>yearbuilt</th>\n",
       "      <th>taxamount</th>\n",
       "      <th>fips</th>\n",
       "      <th>propertylandusetypeid</th>\n",
       "      <th>parcelid</th>\n",
       "    </tr>\n",
       "  </thead>\n",
       "  <tbody>\n",
       "    <tr>\n",
       "      <th>0</th>\n",
       "      <td>0.0</td>\n",
       "      <td>0.0</td>\n",
       "      <td>NaN</td>\n",
       "      <td>27516.0</td>\n",
       "      <td>NaN</td>\n",
       "      <td>NaN</td>\n",
       "      <td>6037.0</td>\n",
       "      <td>261.0</td>\n",
       "      <td>10759547</td>\n",
       "    </tr>\n",
       "    <tr>\n",
       "      <th>1</th>\n",
       "      <td>0.0</td>\n",
       "      <td>0.0</td>\n",
       "      <td>NaN</td>\n",
       "      <td>10.0</td>\n",
       "      <td>NaN</td>\n",
       "      <td>NaN</td>\n",
       "      <td>6037.0</td>\n",
       "      <td>261.0</td>\n",
       "      <td>11193347</td>\n",
       "    </tr>\n",
       "    <tr>\n",
       "      <th>2</th>\n",
       "      <td>0.0</td>\n",
       "      <td>0.0</td>\n",
       "      <td>NaN</td>\n",
       "      <td>10.0</td>\n",
       "      <td>NaN</td>\n",
       "      <td>NaN</td>\n",
       "      <td>6037.0</td>\n",
       "      <td>261.0</td>\n",
       "      <td>11215747</td>\n",
       "    </tr>\n",
       "    <tr>\n",
       "      <th>3</th>\n",
       "      <td>0.0</td>\n",
       "      <td>0.0</td>\n",
       "      <td>NaN</td>\n",
       "      <td>2108.0</td>\n",
       "      <td>NaN</td>\n",
       "      <td>174.21</td>\n",
       "      <td>6037.0</td>\n",
       "      <td>261.0</td>\n",
       "      <td>11229347</td>\n",
       "    </tr>\n",
       "    <tr>\n",
       "      <th>4</th>\n",
       "      <td>4.0</td>\n",
       "      <td>2.0</td>\n",
       "      <td>3633.0</td>\n",
       "      <td>296425.0</td>\n",
       "      <td>2005.0</td>\n",
       "      <td>6941.39</td>\n",
       "      <td>6037.0</td>\n",
       "      <td>261.0</td>\n",
       "      <td>11324547</td>\n",
       "    </tr>\n",
       "  </tbody>\n",
       "</table>\n",
       "</div>"
      ],
      "text/plain": [
       "   bedroomcnt  bathroomcnt  calculatedfinishedsquarefeet  taxvaluedollarcnt  \\\n",
       "0         0.0          0.0                           NaN            27516.0   \n",
       "1         0.0          0.0                           NaN               10.0   \n",
       "2         0.0          0.0                           NaN               10.0   \n",
       "3         0.0          0.0                           NaN             2108.0   \n",
       "4         4.0          2.0                        3633.0           296425.0   \n",
       "\n",
       "   yearbuilt  taxamount    fips  propertylandusetypeid  parcelid  \n",
       "0        NaN        NaN  6037.0                  261.0  10759547  \n",
       "1        NaN        NaN  6037.0                  261.0  11193347  \n",
       "2        NaN        NaN  6037.0                  261.0  11215747  \n",
       "3        NaN     174.21  6037.0                  261.0  11229347  \n",
       "4     2005.0    6941.39  6037.0                  261.0  11324547  "
      ]
     },
     "execution_count": 2,
     "metadata": {},
     "output_type": "execute_result"
    }
   ],
   "source": [
    "df = wr.get_zillow_261()\n",
    "df.head()"
   ]
  },
  {
   "cell_type": "code",
   "execution_count": 3,
   "id": "cb7d94f8-d6e4-4d50-835e-fc51d49a6aa0",
   "metadata": {},
   "outputs": [
    {
     "data": {
      "text/plain": [
       "(2152863, 9)"
      ]
     },
     "execution_count": 3,
     "metadata": {},
     "output_type": "execute_result"
    }
   ],
   "source": [
    "df.shape"
   ]
  },
  {
   "cell_type": "code",
   "execution_count": 4,
   "id": "7d9b0c88-4433-492d-a607-b44fbb9a8430",
   "metadata": {},
   "outputs": [
    {
     "name": "stdout",
     "output_type": "stream",
     "text": [
      "<class 'pandas.core.frame.DataFrame'>\n",
      "Int64Index: 2152863 entries, 0 to 2152862\n",
      "Data columns (total 9 columns):\n",
      " #   Column                        Dtype  \n",
      "---  ------                        -----  \n",
      " 0   bedroomcnt                    float64\n",
      " 1   bathroomcnt                   float64\n",
      " 2   calculatedfinishedsquarefeet  float64\n",
      " 3   taxvaluedollarcnt             float64\n",
      " 4   yearbuilt                     float64\n",
      " 5   taxamount                     float64\n",
      " 6   fips                          float64\n",
      " 7   propertylandusetypeid         float64\n",
      " 8   parcelid                      int64  \n",
      "dtypes: float64(8), int64(1)\n",
      "memory usage: 164.3 MB\n"
     ]
    }
   ],
   "source": [
    "df.info()"
   ]
  },
  {
   "cell_type": "markdown",
   "id": "b2fc3cf4-cda8-49e9-b65b-ec62dbd76dd6",
   "metadata": {},
   "source": [
    "### <div class=\"alert alert-block alert-info\">prepare<div>"
   ]
  },
  {
   "cell_type": "code",
   "execution_count": 5,
   "id": "a26a3103-6720-42f4-94d8-279468f9f43b",
   "metadata": {},
   "outputs": [],
   "source": [
    "# rename columns\n",
    "df.rename(columns = {'bedroomcnt':'bed', 'bathroomcnt':'bath', 'calculatedfinishedsquarefeet':\\\n",
    "'sqft', 'taxvaluedollarcnt': 'assessed_worth', 'yearbuilt':'year', 'taxamount':'property_taxes',\\\n",
    "'propertylandusetypeid':'use', 'fips':'county'}, inplace = True)"
   ]
  },
  {
   "cell_type": "markdown",
   "id": "6f993de0-4205-416a-8597-690fa0223141",
   "metadata": {},
   "source": [
    "> #### bedroom"
   ]
  },
  {
   "cell_type": "code",
   "execution_count": 6,
   "id": "4a39585e-74a3-46e9-9026-9d8d205a0090",
   "metadata": {},
   "outputs": [
    {
     "data": {
      "text/plain": [
       "3.0     964298\n",
       "4.0     634289\n",
       "2.0     335473\n",
       "5.0     150866\n",
       "6.0      25166\n",
       "1.0      23166\n",
       "0.0      13187\n",
       "7.0       4807\n",
       "8.0       1107\n",
       "9.0        291\n",
       "10.0       121\n",
       "11.0        34\n",
       "13.0        16\n",
       "12.0        12\n",
       "NaN         11\n",
       "14.0         7\n",
       "15.0         6\n",
       "18.0         3\n",
       "16.0         2\n",
       "25.0         1\n",
       "Name: bed, dtype: int64"
      ]
     },
     "execution_count": 6,
     "metadata": {},
     "output_type": "execute_result"
    }
   ],
   "source": [
    "# can you have a half bedroom?\n",
    "df.bed.value_counts(dropna=False)\n",
    "# guess not, but look at those NaNs..explore here"
   ]
  },
  {
   "cell_type": "code",
   "execution_count": 7,
   "id": "9b7fa1ba-318f-41ed-9e4d-864ef2c9b196",
   "metadata": {},
   "outputs": [
    {
     "data": {
      "text/html": [
       "<div>\n",
       "<style scoped>\n",
       "    .dataframe tbody tr th:only-of-type {\n",
       "        vertical-align: middle;\n",
       "    }\n",
       "\n",
       "    .dataframe tbody tr th {\n",
       "        vertical-align: top;\n",
       "    }\n",
       "\n",
       "    .dataframe thead th {\n",
       "        text-align: right;\n",
       "    }\n",
       "</style>\n",
       "<table border=\"1\" class=\"dataframe\">\n",
       "  <thead>\n",
       "    <tr style=\"text-align: right;\">\n",
       "      <th></th>\n",
       "      <th>bed</th>\n",
       "      <th>bath</th>\n",
       "      <th>sqft</th>\n",
       "      <th>assessed_worth</th>\n",
       "      <th>year</th>\n",
       "      <th>property_taxes</th>\n",
       "      <th>county</th>\n",
       "      <th>use</th>\n",
       "      <th>parcelid</th>\n",
       "    </tr>\n",
       "  </thead>\n",
       "  <tbody>\n",
       "    <tr>\n",
       "      <th>107763</th>\n",
       "      <td>NaN</td>\n",
       "      <td>NaN</td>\n",
       "      <td>NaN</td>\n",
       "      <td>67366.0</td>\n",
       "      <td>1926.0</td>\n",
       "      <td>780.54</td>\n",
       "      <td>6059.0</td>\n",
       "      <td>261.0</td>\n",
       "      <td>79639557</td>\n",
       "    </tr>\n",
       "    <tr>\n",
       "      <th>118612</th>\n",
       "      <td>NaN</td>\n",
       "      <td>NaN</td>\n",
       "      <td>NaN</td>\n",
       "      <td>43992.0</td>\n",
       "      <td>1946.0</td>\n",
       "      <td>541.64</td>\n",
       "      <td>6059.0</td>\n",
       "      <td>261.0</td>\n",
       "      <td>79639558</td>\n",
       "    </tr>\n",
       "    <tr>\n",
       "      <th>193993</th>\n",
       "      <td>NaN</td>\n",
       "      <td>NaN</td>\n",
       "      <td>1348.0</td>\n",
       "      <td>840698.0</td>\n",
       "      <td>1952.0</td>\n",
       "      <td>NaN</td>\n",
       "      <td>6059.0</td>\n",
       "      <td>261.0</td>\n",
       "      <td>79639565</td>\n",
       "    </tr>\n",
       "    <tr>\n",
       "      <th>1141339</th>\n",
       "      <td>NaN</td>\n",
       "      <td>NaN</td>\n",
       "      <td>200.0</td>\n",
       "      <td>188972.0</td>\n",
       "      <td>NaN</td>\n",
       "      <td>NaN</td>\n",
       "      <td>6037.0</td>\n",
       "      <td>261.0</td>\n",
       "      <td>76914853</td>\n",
       "    </tr>\n",
       "    <tr>\n",
       "      <th>1324608</th>\n",
       "      <td>NaN</td>\n",
       "      <td>NaN</td>\n",
       "      <td>990.0</td>\n",
       "      <td>435000.0</td>\n",
       "      <td>1906.0</td>\n",
       "      <td>NaN</td>\n",
       "      <td>6037.0</td>\n",
       "      <td>261.0</td>\n",
       "      <td>76915070</td>\n",
       "    </tr>\n",
       "    <tr>\n",
       "      <th>1442975</th>\n",
       "      <td>NaN</td>\n",
       "      <td>NaN</td>\n",
       "      <td>NaN</td>\n",
       "      <td>273196.0</td>\n",
       "      <td>NaN</td>\n",
       "      <td>NaN</td>\n",
       "      <td>6037.0</td>\n",
       "      <td>261.0</td>\n",
       "      <td>76916281</td>\n",
       "    </tr>\n",
       "    <tr>\n",
       "      <th>1647346</th>\n",
       "      <td>NaN</td>\n",
       "      <td>NaN</td>\n",
       "      <td>400.0</td>\n",
       "      <td>28347.0</td>\n",
       "      <td>1954.0</td>\n",
       "      <td>NaN</td>\n",
       "      <td>6037.0</td>\n",
       "      <td>261.0</td>\n",
       "      <td>76915500</td>\n",
       "    </tr>\n",
       "    <tr>\n",
       "      <th>1701026</th>\n",
       "      <td>NaN</td>\n",
       "      <td>NaN</td>\n",
       "      <td>NaN</td>\n",
       "      <td>407930.0</td>\n",
       "      <td>1926.0</td>\n",
       "      <td>NaN</td>\n",
       "      <td>6037.0</td>\n",
       "      <td>261.0</td>\n",
       "      <td>76916105</td>\n",
       "    </tr>\n",
       "    <tr>\n",
       "      <th>1722707</th>\n",
       "      <td>NaN</td>\n",
       "      <td>NaN</td>\n",
       "      <td>NaN</td>\n",
       "      <td>477161.0</td>\n",
       "      <td>NaN</td>\n",
       "      <td>NaN</td>\n",
       "      <td>6037.0</td>\n",
       "      <td>261.0</td>\n",
       "      <td>76914507</td>\n",
       "    </tr>\n",
       "    <tr>\n",
       "      <th>1776422</th>\n",
       "      <td>NaN</td>\n",
       "      <td>NaN</td>\n",
       "      <td>NaN</td>\n",
       "      <td>38855.0</td>\n",
       "      <td>NaN</td>\n",
       "      <td>NaN</td>\n",
       "      <td>6037.0</td>\n",
       "      <td>261.0</td>\n",
       "      <td>76915512</td>\n",
       "    </tr>\n",
       "    <tr>\n",
       "      <th>1797985</th>\n",
       "      <td>NaN</td>\n",
       "      <td>NaN</td>\n",
       "      <td>NaN</td>\n",
       "      <td>1017957.0</td>\n",
       "      <td>1990.0</td>\n",
       "      <td>NaN</td>\n",
       "      <td>6037.0</td>\n",
       "      <td>261.0</td>\n",
       "      <td>76916714</td>\n",
       "    </tr>\n",
       "  </tbody>\n",
       "</table>\n",
       "</div>"
      ],
      "text/plain": [
       "         bed  bath    sqft  assessed_worth    year  property_taxes  county  \\\n",
       "107763   NaN   NaN     NaN         67366.0  1926.0          780.54  6059.0   \n",
       "118612   NaN   NaN     NaN         43992.0  1946.0          541.64  6059.0   \n",
       "193993   NaN   NaN  1348.0        840698.0  1952.0             NaN  6059.0   \n",
       "1141339  NaN   NaN   200.0        188972.0     NaN             NaN  6037.0   \n",
       "1324608  NaN   NaN   990.0        435000.0  1906.0             NaN  6037.0   \n",
       "1442975  NaN   NaN     NaN        273196.0     NaN             NaN  6037.0   \n",
       "1647346  NaN   NaN   400.0         28347.0  1954.0             NaN  6037.0   \n",
       "1701026  NaN   NaN     NaN        407930.0  1926.0             NaN  6037.0   \n",
       "1722707  NaN   NaN     NaN        477161.0     NaN             NaN  6037.0   \n",
       "1776422  NaN   NaN     NaN         38855.0     NaN             NaN  6037.0   \n",
       "1797985  NaN   NaN     NaN       1017957.0  1990.0             NaN  6037.0   \n",
       "\n",
       "           use  parcelid  \n",
       "107763   261.0  79639557  \n",
       "118612   261.0  79639558  \n",
       "193993   261.0  79639565  \n",
       "1141339  261.0  76914853  \n",
       "1324608  261.0  76915070  \n",
       "1442975  261.0  76916281  \n",
       "1647346  261.0  76915500  \n",
       "1701026  261.0  76916105  \n",
       "1722707  261.0  76914507  \n",
       "1776422  261.0  76915512  \n",
       "1797985  261.0  76916714  "
      ]
     },
     "execution_count": 7,
     "metadata": {},
     "output_type": "execute_result"
    }
   ],
   "source": [
    "# where are the NaN's and what do they look like?\n",
    "df[df.bed.isnull()]\n",
    "# older houses mostly, small... 11/2 million is a drop in the bucket, so DROP these..."
   ]
  },
  {
   "cell_type": "code",
   "execution_count": 8,
   "id": "db0719ab-e0a3-4a82-a816-600fbebf9069",
   "metadata": {},
   "outputs": [
    {
     "data": {
      "text/plain": [
       "dtype('float64')"
      ]
     },
     "execution_count": 8,
     "metadata": {},
     "output_type": "execute_result"
    }
   ],
   "source": [
    "# data type makes sense here, keep a float for scalibility\n",
    "df.bed.dtypes"
   ]
  },
  {
   "cell_type": "markdown",
   "id": "c2652d74-4647-45bc-9200-59443c8466b3",
   "metadata": {},
   "source": [
    "> #### bathroom"
   ]
  },
  {
   "cell_type": "code",
   "execution_count": 9,
   "id": "fb76d43c-3950-4f60-89e7-5a4bc0db7ef1",
   "metadata": {},
   "outputs": [
    {
     "data": {
      "text/plain": [
       "2.00     943589\n",
       "3.00     422841\n",
       "1.00     414324\n",
       "2.50     142981\n",
       "4.00      82155\n",
       "1.50      31211\n",
       "3.50      28518\n",
       "5.00      28362\n",
       "4.50      19506\n",
       "0.00      13027\n",
       "6.00      10747\n",
       "5.50       6217\n",
       "7.00       4394\n",
       "8.00       1692\n",
       "6.50       1333\n",
       "9.00        713\n",
       "7.50        384\n",
       "10.00       325\n",
       "11.00       146\n",
       "8.50        110\n",
       "12.00        73\n",
       "9.50         50\n",
       "13.00        39\n",
       "14.00        25\n",
       "15.00        17\n",
       "0.50         16\n",
       "10.50        14\n",
       "16.00        12\n",
       "NaN          11\n",
       "18.00         8\n",
       "20.00         6\n",
       "17.00         4\n",
       "1.75          3\n",
       "12.50         3\n",
       "11.50         3\n",
       "19.50         1\n",
       "14.50         1\n",
       "32.00         1\n",
       "19.00         1\n",
       "Name: bath, dtype: int64"
      ]
     },
     "execution_count": 9,
     "metadata": {},
     "output_type": "execute_result"
    }
   ],
   "source": [
    "# you can have a half bathroom\n",
    "df.bath.value_counts(dropna=False)\n",
    "# 11 NaN's, same as bed's..."
   ]
  },
  {
   "cell_type": "code",
   "execution_count": 10,
   "id": "4a1e56b3-7167-4cd8-b381-6691d4d65c22",
   "metadata": {},
   "outputs": [
    {
     "data": {
      "text/html": [
       "<div>\n",
       "<style scoped>\n",
       "    .dataframe tbody tr th:only-of-type {\n",
       "        vertical-align: middle;\n",
       "    }\n",
       "\n",
       "    .dataframe tbody tr th {\n",
       "        vertical-align: top;\n",
       "    }\n",
       "\n",
       "    .dataframe thead th {\n",
       "        text-align: right;\n",
       "    }\n",
       "</style>\n",
       "<table border=\"1\" class=\"dataframe\">\n",
       "  <thead>\n",
       "    <tr style=\"text-align: right;\">\n",
       "      <th></th>\n",
       "      <th>bed</th>\n",
       "      <th>bath</th>\n",
       "      <th>sqft</th>\n",
       "      <th>assessed_worth</th>\n",
       "      <th>year</th>\n",
       "      <th>property_taxes</th>\n",
       "      <th>county</th>\n",
       "      <th>use</th>\n",
       "      <th>parcelid</th>\n",
       "    </tr>\n",
       "  </thead>\n",
       "  <tbody>\n",
       "    <tr>\n",
       "      <th>107763</th>\n",
       "      <td>NaN</td>\n",
       "      <td>NaN</td>\n",
       "      <td>NaN</td>\n",
       "      <td>67366.0</td>\n",
       "      <td>1926.0</td>\n",
       "      <td>780.54</td>\n",
       "      <td>6059.0</td>\n",
       "      <td>261.0</td>\n",
       "      <td>79639557</td>\n",
       "    </tr>\n",
       "    <tr>\n",
       "      <th>118612</th>\n",
       "      <td>NaN</td>\n",
       "      <td>NaN</td>\n",
       "      <td>NaN</td>\n",
       "      <td>43992.0</td>\n",
       "      <td>1946.0</td>\n",
       "      <td>541.64</td>\n",
       "      <td>6059.0</td>\n",
       "      <td>261.0</td>\n",
       "      <td>79639558</td>\n",
       "    </tr>\n",
       "    <tr>\n",
       "      <th>193993</th>\n",
       "      <td>NaN</td>\n",
       "      <td>NaN</td>\n",
       "      <td>1348.0</td>\n",
       "      <td>840698.0</td>\n",
       "      <td>1952.0</td>\n",
       "      <td>NaN</td>\n",
       "      <td>6059.0</td>\n",
       "      <td>261.0</td>\n",
       "      <td>79639565</td>\n",
       "    </tr>\n",
       "    <tr>\n",
       "      <th>1141339</th>\n",
       "      <td>NaN</td>\n",
       "      <td>NaN</td>\n",
       "      <td>200.0</td>\n",
       "      <td>188972.0</td>\n",
       "      <td>NaN</td>\n",
       "      <td>NaN</td>\n",
       "      <td>6037.0</td>\n",
       "      <td>261.0</td>\n",
       "      <td>76914853</td>\n",
       "    </tr>\n",
       "    <tr>\n",
       "      <th>1324608</th>\n",
       "      <td>NaN</td>\n",
       "      <td>NaN</td>\n",
       "      <td>990.0</td>\n",
       "      <td>435000.0</td>\n",
       "      <td>1906.0</td>\n",
       "      <td>NaN</td>\n",
       "      <td>6037.0</td>\n",
       "      <td>261.0</td>\n",
       "      <td>76915070</td>\n",
       "    </tr>\n",
       "    <tr>\n",
       "      <th>1442975</th>\n",
       "      <td>NaN</td>\n",
       "      <td>NaN</td>\n",
       "      <td>NaN</td>\n",
       "      <td>273196.0</td>\n",
       "      <td>NaN</td>\n",
       "      <td>NaN</td>\n",
       "      <td>6037.0</td>\n",
       "      <td>261.0</td>\n",
       "      <td>76916281</td>\n",
       "    </tr>\n",
       "    <tr>\n",
       "      <th>1647346</th>\n",
       "      <td>NaN</td>\n",
       "      <td>NaN</td>\n",
       "      <td>400.0</td>\n",
       "      <td>28347.0</td>\n",
       "      <td>1954.0</td>\n",
       "      <td>NaN</td>\n",
       "      <td>6037.0</td>\n",
       "      <td>261.0</td>\n",
       "      <td>76915500</td>\n",
       "    </tr>\n",
       "    <tr>\n",
       "      <th>1701026</th>\n",
       "      <td>NaN</td>\n",
       "      <td>NaN</td>\n",
       "      <td>NaN</td>\n",
       "      <td>407930.0</td>\n",
       "      <td>1926.0</td>\n",
       "      <td>NaN</td>\n",
       "      <td>6037.0</td>\n",
       "      <td>261.0</td>\n",
       "      <td>76916105</td>\n",
       "    </tr>\n",
       "    <tr>\n",
       "      <th>1722707</th>\n",
       "      <td>NaN</td>\n",
       "      <td>NaN</td>\n",
       "      <td>NaN</td>\n",
       "      <td>477161.0</td>\n",
       "      <td>NaN</td>\n",
       "      <td>NaN</td>\n",
       "      <td>6037.0</td>\n",
       "      <td>261.0</td>\n",
       "      <td>76914507</td>\n",
       "    </tr>\n",
       "    <tr>\n",
       "      <th>1776422</th>\n",
       "      <td>NaN</td>\n",
       "      <td>NaN</td>\n",
       "      <td>NaN</td>\n",
       "      <td>38855.0</td>\n",
       "      <td>NaN</td>\n",
       "      <td>NaN</td>\n",
       "      <td>6037.0</td>\n",
       "      <td>261.0</td>\n",
       "      <td>76915512</td>\n",
       "    </tr>\n",
       "    <tr>\n",
       "      <th>1797985</th>\n",
       "      <td>NaN</td>\n",
       "      <td>NaN</td>\n",
       "      <td>NaN</td>\n",
       "      <td>1017957.0</td>\n",
       "      <td>1990.0</td>\n",
       "      <td>NaN</td>\n",
       "      <td>6037.0</td>\n",
       "      <td>261.0</td>\n",
       "      <td>76916714</td>\n",
       "    </tr>\n",
       "  </tbody>\n",
       "</table>\n",
       "</div>"
      ],
      "text/plain": [
       "         bed  bath    sqft  assessed_worth    year  property_taxes  county  \\\n",
       "107763   NaN   NaN     NaN         67366.0  1926.0          780.54  6059.0   \n",
       "118612   NaN   NaN     NaN         43992.0  1946.0          541.64  6059.0   \n",
       "193993   NaN   NaN  1348.0        840698.0  1952.0             NaN  6059.0   \n",
       "1141339  NaN   NaN   200.0        188972.0     NaN             NaN  6037.0   \n",
       "1324608  NaN   NaN   990.0        435000.0  1906.0             NaN  6037.0   \n",
       "1442975  NaN   NaN     NaN        273196.0     NaN             NaN  6037.0   \n",
       "1647346  NaN   NaN   400.0         28347.0  1954.0             NaN  6037.0   \n",
       "1701026  NaN   NaN     NaN        407930.0  1926.0             NaN  6037.0   \n",
       "1722707  NaN   NaN     NaN        477161.0     NaN             NaN  6037.0   \n",
       "1776422  NaN   NaN     NaN         38855.0     NaN             NaN  6037.0   \n",
       "1797985  NaN   NaN     NaN       1017957.0  1990.0             NaN  6037.0   \n",
       "\n",
       "           use  parcelid  \n",
       "107763   261.0  79639557  \n",
       "118612   261.0  79639558  \n",
       "193993   261.0  79639565  \n",
       "1141339  261.0  76914853  \n",
       "1324608  261.0  76915070  \n",
       "1442975  261.0  76916281  \n",
       "1647346  261.0  76915500  \n",
       "1701026  261.0  76916105  \n",
       "1722707  261.0  76914507  \n",
       "1776422  261.0  76915512  \n",
       "1797985  261.0  76916714  "
      ]
     },
     "execution_count": 10,
     "metadata": {},
     "output_type": "execute_result"
    }
   ],
   "source": [
    "# where are the NaN's and what do they look like?\n",
    "df[df.bath.isnull()]"
   ]
  },
  {
   "cell_type": "code",
   "execution_count": 11,
   "id": "be3c0a39-47cc-43d3-a255-a9382ee8444a",
   "metadata": {},
   "outputs": [
    {
     "data": {
      "text/html": [
       "<div>\n",
       "<style scoped>\n",
       "    .dataframe tbody tr th:only-of-type {\n",
       "        vertical-align: middle;\n",
       "    }\n",
       "\n",
       "    .dataframe tbody tr th {\n",
       "        vertical-align: top;\n",
       "    }\n",
       "\n",
       "    .dataframe thead th {\n",
       "        text-align: right;\n",
       "    }\n",
       "</style>\n",
       "<table border=\"1\" class=\"dataframe\">\n",
       "  <thead>\n",
       "    <tr style=\"text-align: right;\">\n",
       "      <th></th>\n",
       "      <th>bed</th>\n",
       "      <th>bath</th>\n",
       "      <th>sqft</th>\n",
       "      <th>assessed_worth</th>\n",
       "      <th>year</th>\n",
       "      <th>property_taxes</th>\n",
       "      <th>county</th>\n",
       "      <th>use</th>\n",
       "      <th>parcelid</th>\n",
       "    </tr>\n",
       "  </thead>\n",
       "  <tbody>\n",
       "    <tr>\n",
       "      <th>107763</th>\n",
       "      <td>NaN</td>\n",
       "      <td>NaN</td>\n",
       "      <td>NaN</td>\n",
       "      <td>67366.0</td>\n",
       "      <td>1926.0</td>\n",
       "      <td>780.54</td>\n",
       "      <td>6059.0</td>\n",
       "      <td>261.0</td>\n",
       "      <td>79639557</td>\n",
       "    </tr>\n",
       "    <tr>\n",
       "      <th>118612</th>\n",
       "      <td>NaN</td>\n",
       "      <td>NaN</td>\n",
       "      <td>NaN</td>\n",
       "      <td>43992.0</td>\n",
       "      <td>1946.0</td>\n",
       "      <td>541.64</td>\n",
       "      <td>6059.0</td>\n",
       "      <td>261.0</td>\n",
       "      <td>79639558</td>\n",
       "    </tr>\n",
       "    <tr>\n",
       "      <th>193993</th>\n",
       "      <td>NaN</td>\n",
       "      <td>NaN</td>\n",
       "      <td>1348.0</td>\n",
       "      <td>840698.0</td>\n",
       "      <td>1952.0</td>\n",
       "      <td>NaN</td>\n",
       "      <td>6059.0</td>\n",
       "      <td>261.0</td>\n",
       "      <td>79639565</td>\n",
       "    </tr>\n",
       "    <tr>\n",
       "      <th>1141339</th>\n",
       "      <td>NaN</td>\n",
       "      <td>NaN</td>\n",
       "      <td>200.0</td>\n",
       "      <td>188972.0</td>\n",
       "      <td>NaN</td>\n",
       "      <td>NaN</td>\n",
       "      <td>6037.0</td>\n",
       "      <td>261.0</td>\n",
       "      <td>76914853</td>\n",
       "    </tr>\n",
       "    <tr>\n",
       "      <th>1324608</th>\n",
       "      <td>NaN</td>\n",
       "      <td>NaN</td>\n",
       "      <td>990.0</td>\n",
       "      <td>435000.0</td>\n",
       "      <td>1906.0</td>\n",
       "      <td>NaN</td>\n",
       "      <td>6037.0</td>\n",
       "      <td>261.0</td>\n",
       "      <td>76915070</td>\n",
       "    </tr>\n",
       "    <tr>\n",
       "      <th>1442975</th>\n",
       "      <td>NaN</td>\n",
       "      <td>NaN</td>\n",
       "      <td>NaN</td>\n",
       "      <td>273196.0</td>\n",
       "      <td>NaN</td>\n",
       "      <td>NaN</td>\n",
       "      <td>6037.0</td>\n",
       "      <td>261.0</td>\n",
       "      <td>76916281</td>\n",
       "    </tr>\n",
       "    <tr>\n",
       "      <th>1647346</th>\n",
       "      <td>NaN</td>\n",
       "      <td>NaN</td>\n",
       "      <td>400.0</td>\n",
       "      <td>28347.0</td>\n",
       "      <td>1954.0</td>\n",
       "      <td>NaN</td>\n",
       "      <td>6037.0</td>\n",
       "      <td>261.0</td>\n",
       "      <td>76915500</td>\n",
       "    </tr>\n",
       "    <tr>\n",
       "      <th>1701026</th>\n",
       "      <td>NaN</td>\n",
       "      <td>NaN</td>\n",
       "      <td>NaN</td>\n",
       "      <td>407930.0</td>\n",
       "      <td>1926.0</td>\n",
       "      <td>NaN</td>\n",
       "      <td>6037.0</td>\n",
       "      <td>261.0</td>\n",
       "      <td>76916105</td>\n",
       "    </tr>\n",
       "    <tr>\n",
       "      <th>1722707</th>\n",
       "      <td>NaN</td>\n",
       "      <td>NaN</td>\n",
       "      <td>NaN</td>\n",
       "      <td>477161.0</td>\n",
       "      <td>NaN</td>\n",
       "      <td>NaN</td>\n",
       "      <td>6037.0</td>\n",
       "      <td>261.0</td>\n",
       "      <td>76914507</td>\n",
       "    </tr>\n",
       "    <tr>\n",
       "      <th>1776422</th>\n",
       "      <td>NaN</td>\n",
       "      <td>NaN</td>\n",
       "      <td>NaN</td>\n",
       "      <td>38855.0</td>\n",
       "      <td>NaN</td>\n",
       "      <td>NaN</td>\n",
       "      <td>6037.0</td>\n",
       "      <td>261.0</td>\n",
       "      <td>76915512</td>\n",
       "    </tr>\n",
       "    <tr>\n",
       "      <th>1797985</th>\n",
       "      <td>NaN</td>\n",
       "      <td>NaN</td>\n",
       "      <td>NaN</td>\n",
       "      <td>1017957.0</td>\n",
       "      <td>1990.0</td>\n",
       "      <td>NaN</td>\n",
       "      <td>6037.0</td>\n",
       "      <td>261.0</td>\n",
       "      <td>76916714</td>\n",
       "    </tr>\n",
       "  </tbody>\n",
       "</table>\n",
       "</div>"
      ],
      "text/plain": [
       "         bed  bath    sqft  assessed_worth    year  property_taxes  county  \\\n",
       "107763   NaN   NaN     NaN         67366.0  1926.0          780.54  6059.0   \n",
       "118612   NaN   NaN     NaN         43992.0  1946.0          541.64  6059.0   \n",
       "193993   NaN   NaN  1348.0        840698.0  1952.0             NaN  6059.0   \n",
       "1141339  NaN   NaN   200.0        188972.0     NaN             NaN  6037.0   \n",
       "1324608  NaN   NaN   990.0        435000.0  1906.0             NaN  6037.0   \n",
       "1442975  NaN   NaN     NaN        273196.0     NaN             NaN  6037.0   \n",
       "1647346  NaN   NaN   400.0         28347.0  1954.0             NaN  6037.0   \n",
       "1701026  NaN   NaN     NaN        407930.0  1926.0             NaN  6037.0   \n",
       "1722707  NaN   NaN     NaN        477161.0     NaN             NaN  6037.0   \n",
       "1776422  NaN   NaN     NaN         38855.0     NaN             NaN  6037.0   \n",
       "1797985  NaN   NaN     NaN       1017957.0  1990.0             NaN  6037.0   \n",
       "\n",
       "           use  parcelid  \n",
       "107763   261.0  79639557  \n",
       "118612   261.0  79639558  \n",
       "193993   261.0  79639565  \n",
       "1141339  261.0  76914853  \n",
       "1324608  261.0  76915070  \n",
       "1442975  261.0  76916281  \n",
       "1647346  261.0  76915500  \n",
       "1701026  261.0  76916105  \n",
       "1722707  261.0  76914507  \n",
       "1776422  261.0  76915512  \n",
       "1797985  261.0  76916714  "
      ]
     },
     "execution_count": 11,
     "metadata": {},
     "output_type": "execute_result"
    }
   ],
   "source": [
    "# do these NaN's match the bed's?\n",
    "df[(df.bath.isnull()) & (df.bed.isnull())]\n",
    "# Yes. DROP."
   ]
  },
  {
   "cell_type": "code",
   "execution_count": 12,
   "id": "b2a0db1c-44bc-4bdc-9cc5-9706b0275c89",
   "metadata": {},
   "outputs": [
    {
     "data": {
      "text/plain": [
       "dtype('float64')"
      ]
     },
     "execution_count": 12,
     "metadata": {},
     "output_type": "execute_result"
    }
   ],
   "source": [
    "# keep as a float, checks out\n",
    "df.bath.dtypes"
   ]
  },
  {
   "cell_type": "markdown",
   "id": "3146adde-d758-46dc-8045-6418a0d2b8e6",
   "metadata": {},
   "source": [
    "* No beds, no baths, I think this is just LAND... verify with sqft but for the prompt - drop"
   ]
  },
  {
   "cell_type": "markdown",
   "id": "5a571235-e99b-41d4-80ed-a410320b4221",
   "metadata": {},
   "source": [
    "> #### sqft"
   ]
  },
  {
   "cell_type": "code",
   "execution_count": 13,
   "id": "0b83fc4b-0306-473c-be8e-861693404b4b",
   "metadata": {},
   "outputs": [
    {
     "data": {
      "text/plain": [
       "NaN        8484\n",
       "1200.0     5195\n",
       "1080.0     4389\n",
       "1120.0     4362\n",
       "1400.0     3833\n",
       "           ... \n",
       "9940.0        1\n",
       "56.0          1\n",
       "14547.0       1\n",
       "9968.0        1\n",
       "24920.0       1\n",
       "Name: sqft, Length: 10581, dtype: int64"
      ]
     },
     "execution_count": 13,
     "metadata": {},
     "output_type": "execute_result"
    }
   ],
   "source": [
    "# look at the data\n",
    "df.sqft.value_counts(dropna=False)\n",
    "# 8,484 NaN's....."
   ]
  },
  {
   "cell_type": "code",
   "execution_count": 14,
   "id": "771d560c-0760-49e7-8f21-c3b5bbc76727",
   "metadata": {},
   "outputs": [
    {
     "data": {
      "text/html": [
       "<div>\n",
       "<style scoped>\n",
       "    .dataframe tbody tr th:only-of-type {\n",
       "        vertical-align: middle;\n",
       "    }\n",
       "\n",
       "    .dataframe tbody tr th {\n",
       "        vertical-align: top;\n",
       "    }\n",
       "\n",
       "    .dataframe thead th {\n",
       "        text-align: right;\n",
       "    }\n",
       "</style>\n",
       "<table border=\"1\" class=\"dataframe\">\n",
       "  <thead>\n",
       "    <tr style=\"text-align: right;\">\n",
       "      <th></th>\n",
       "      <th>bed</th>\n",
       "      <th>bath</th>\n",
       "      <th>sqft</th>\n",
       "      <th>assessed_worth</th>\n",
       "      <th>year</th>\n",
       "      <th>property_taxes</th>\n",
       "      <th>county</th>\n",
       "      <th>use</th>\n",
       "      <th>parcelid</th>\n",
       "    </tr>\n",
       "  </thead>\n",
       "  <tbody>\n",
       "    <tr>\n",
       "      <th>0</th>\n",
       "      <td>0.0</td>\n",
       "      <td>0.0</td>\n",
       "      <td>NaN</td>\n",
       "      <td>27516.0</td>\n",
       "      <td>NaN</td>\n",
       "      <td>NaN</td>\n",
       "      <td>6037.0</td>\n",
       "      <td>261.0</td>\n",
       "      <td>10759547</td>\n",
       "    </tr>\n",
       "    <tr>\n",
       "      <th>1</th>\n",
       "      <td>0.0</td>\n",
       "      <td>0.0</td>\n",
       "      <td>NaN</td>\n",
       "      <td>10.0</td>\n",
       "      <td>NaN</td>\n",
       "      <td>NaN</td>\n",
       "      <td>6037.0</td>\n",
       "      <td>261.0</td>\n",
       "      <td>11193347</td>\n",
       "    </tr>\n",
       "    <tr>\n",
       "      <th>2</th>\n",
       "      <td>0.0</td>\n",
       "      <td>0.0</td>\n",
       "      <td>NaN</td>\n",
       "      <td>10.0</td>\n",
       "      <td>NaN</td>\n",
       "      <td>NaN</td>\n",
       "      <td>6037.0</td>\n",
       "      <td>261.0</td>\n",
       "      <td>11215747</td>\n",
       "    </tr>\n",
       "    <tr>\n",
       "      <th>3</th>\n",
       "      <td>0.0</td>\n",
       "      <td>0.0</td>\n",
       "      <td>NaN</td>\n",
       "      <td>2108.0</td>\n",
       "      <td>NaN</td>\n",
       "      <td>174.21</td>\n",
       "      <td>6037.0</td>\n",
       "      <td>261.0</td>\n",
       "      <td>11229347</td>\n",
       "    </tr>\n",
       "    <tr>\n",
       "      <th>5</th>\n",
       "      <td>0.0</td>\n",
       "      <td>0.0</td>\n",
       "      <td>NaN</td>\n",
       "      <td>124.0</td>\n",
       "      <td>NaN</td>\n",
       "      <td>NaN</td>\n",
       "      <td>6037.0</td>\n",
       "      <td>261.0</td>\n",
       "      <td>11457547</td>\n",
       "    </tr>\n",
       "    <tr>\n",
       "      <th>...</th>\n",
       "      <td>...</td>\n",
       "      <td>...</td>\n",
       "      <td>...</td>\n",
       "      <td>...</td>\n",
       "      <td>...</td>\n",
       "      <td>...</td>\n",
       "      <td>...</td>\n",
       "      <td>...</td>\n",
       "      <td>...</td>\n",
       "    </tr>\n",
       "    <tr>\n",
       "      <th>2152823</th>\n",
       "      <td>0.0</td>\n",
       "      <td>0.0</td>\n",
       "      <td>NaN</td>\n",
       "      <td>2568893.0</td>\n",
       "      <td>NaN</td>\n",
       "      <td>27309.30</td>\n",
       "      <td>6059.0</td>\n",
       "      <td>261.0</td>\n",
       "      <td>13889389</td>\n",
       "    </tr>\n",
       "    <tr>\n",
       "      <th>2152844</th>\n",
       "      <td>0.0</td>\n",
       "      <td>0.0</td>\n",
       "      <td>NaN</td>\n",
       "      <td>92679.0</td>\n",
       "      <td>NaN</td>\n",
       "      <td>1090.16</td>\n",
       "      <td>6111.0</td>\n",
       "      <td>261.0</td>\n",
       "      <td>17204623</td>\n",
       "    </tr>\n",
       "    <tr>\n",
       "      <th>2152854</th>\n",
       "      <td>0.0</td>\n",
       "      <td>0.0</td>\n",
       "      <td>NaN</td>\n",
       "      <td>1198476.0</td>\n",
       "      <td>NaN</td>\n",
       "      <td>NaN</td>\n",
       "      <td>6037.0</td>\n",
       "      <td>261.0</td>\n",
       "      <td>11477607</td>\n",
       "    </tr>\n",
       "    <tr>\n",
       "      <th>2152857</th>\n",
       "      <td>0.0</td>\n",
       "      <td>0.0</td>\n",
       "      <td>NaN</td>\n",
       "      <td>1087111.0</td>\n",
       "      <td>NaN</td>\n",
       "      <td>19313.08</td>\n",
       "      <td>6059.0</td>\n",
       "      <td>261.0</td>\n",
       "      <td>14359297</td>\n",
       "    </tr>\n",
       "    <tr>\n",
       "      <th>2152860</th>\n",
       "      <td>0.0</td>\n",
       "      <td>0.0</td>\n",
       "      <td>NaN</td>\n",
       "      <td>208057.0</td>\n",
       "      <td>NaN</td>\n",
       "      <td>5783.88</td>\n",
       "      <td>6059.0</td>\n",
       "      <td>261.0</td>\n",
       "      <td>14356183</td>\n",
       "    </tr>\n",
       "  </tbody>\n",
       "</table>\n",
       "<p>8484 rows × 9 columns</p>\n",
       "</div>"
      ],
      "text/plain": [
       "         bed  bath  sqft  assessed_worth  year  property_taxes  county    use  \\\n",
       "0        0.0   0.0   NaN         27516.0   NaN             NaN  6037.0  261.0   \n",
       "1        0.0   0.0   NaN            10.0   NaN             NaN  6037.0  261.0   \n",
       "2        0.0   0.0   NaN            10.0   NaN             NaN  6037.0  261.0   \n",
       "3        0.0   0.0   NaN          2108.0   NaN          174.21  6037.0  261.0   \n",
       "5        0.0   0.0   NaN           124.0   NaN             NaN  6037.0  261.0   \n",
       "...      ...   ...   ...             ...   ...             ...     ...    ...   \n",
       "2152823  0.0   0.0   NaN       2568893.0   NaN        27309.30  6059.0  261.0   \n",
       "2152844  0.0   0.0   NaN         92679.0   NaN         1090.16  6111.0  261.0   \n",
       "2152854  0.0   0.0   NaN       1198476.0   NaN             NaN  6037.0  261.0   \n",
       "2152857  0.0   0.0   NaN       1087111.0   NaN        19313.08  6059.0  261.0   \n",
       "2152860  0.0   0.0   NaN        208057.0   NaN         5783.88  6059.0  261.0   \n",
       "\n",
       "         parcelid  \n",
       "0        10759547  \n",
       "1        11193347  \n",
       "2        11215747  \n",
       "3        11229347  \n",
       "5        11457547  \n",
       "...           ...  \n",
       "2152823  13889389  \n",
       "2152844  17204623  \n",
       "2152854  11477607  \n",
       "2152857  14359297  \n",
       "2152860  14356183  \n",
       "\n",
       "[8484 rows x 9 columns]"
      ]
     },
     "execution_count": 14,
     "metadata": {},
     "output_type": "execute_result"
    }
   ],
   "source": [
    "# where are the nulls located?\n",
    "df[df.sqft.isnull()]\n",
    "# I believe these are miscategorized as use 261 when they are use 291 (residential land, vacant)..DROP"
   ]
  },
  {
   "cell_type": "code",
   "execution_count": 15,
   "id": "f7186a8e-8814-4a13-9bef-2e94a800c69b",
   "metadata": {},
   "outputs": [
    {
     "data": {
      "text/plain": [
       "dtype('float64')"
      ]
     },
     "execution_count": 15,
     "metadata": {},
     "output_type": "execute_result"
    }
   ],
   "source": [
    "# checks to keep as a float for measurement purposes\n",
    "df.sqft.dtype"
   ]
  },
  {
   "cell_type": "markdown",
   "id": "72964db2-6f6f-4a78-b235-e270bbbd0c34",
   "metadata": {},
   "source": [
    "> #### assessed_worth\n",
    "* is the tax assessment value in dollars"
   ]
  },
  {
   "cell_type": "code",
   "execution_count": 16,
   "id": "7a64ecb0-da5f-4326-9083-ea1aa5d907b6",
   "metadata": {},
   "outputs": [
    {
     "data": {
      "text/plain": [
       "450000.0     821\n",
       "500000.0     779\n",
       "400000.0     729\n",
       "430000.0     690\n",
       "440000.0     685\n",
       "            ... \n",
       "3713490.0      1\n",
       "1314828.0      1\n",
       "1166747.0      1\n",
       "1289528.0      1\n",
       "536061.0       1\n",
       "Name: assessed_worth, Length: 592270, dtype: int64"
      ]
     },
     "execution_count": 16,
     "metadata": {},
     "output_type": "execute_result"
    }
   ],
   "source": [
    "# look at the data\n",
    "df.assessed_worth.value_counts(dropna=False)\n",
    "# WOW, NO NULLS! whatever......."
   ]
  },
  {
   "cell_type": "code",
   "execution_count": 17,
   "id": "449253c4-57ab-4a10-be45-4dbbd96897b9",
   "metadata": {},
   "outputs": [
    {
     "data": {
      "text/html": [
       "<div>\n",
       "<style scoped>\n",
       "    .dataframe tbody tr th:only-of-type {\n",
       "        vertical-align: middle;\n",
       "    }\n",
       "\n",
       "    .dataframe tbody tr th {\n",
       "        vertical-align: top;\n",
       "    }\n",
       "\n",
       "    .dataframe thead th {\n",
       "        text-align: right;\n",
       "    }\n",
       "</style>\n",
       "<table border=\"1\" class=\"dataframe\">\n",
       "  <thead>\n",
       "    <tr style=\"text-align: right;\">\n",
       "      <th></th>\n",
       "      <th>bed</th>\n",
       "      <th>bath</th>\n",
       "      <th>sqft</th>\n",
       "      <th>assessed_worth</th>\n",
       "      <th>year</th>\n",
       "      <th>property_taxes</th>\n",
       "      <th>county</th>\n",
       "      <th>use</th>\n",
       "      <th>parcelid</th>\n",
       "    </tr>\n",
       "  </thead>\n",
       "  <tbody>\n",
       "    <tr>\n",
       "      <th>10694</th>\n",
       "      <td>0.0</td>\n",
       "      <td>0.0</td>\n",
       "      <td>NaN</td>\n",
       "      <td>NaN</td>\n",
       "      <td>NaN</td>\n",
       "      <td>NaN</td>\n",
       "      <td>6111.0</td>\n",
       "      <td>261.0</td>\n",
       "      <td>17247903</td>\n",
       "    </tr>\n",
       "    <tr>\n",
       "      <th>10779</th>\n",
       "      <td>0.0</td>\n",
       "      <td>0.0</td>\n",
       "      <td>NaN</td>\n",
       "      <td>NaN</td>\n",
       "      <td>NaN</td>\n",
       "      <td>NaN</td>\n",
       "      <td>6111.0</td>\n",
       "      <td>261.0</td>\n",
       "      <td>17196455</td>\n",
       "    </tr>\n",
       "    <tr>\n",
       "      <th>26588</th>\n",
       "      <td>3.0</td>\n",
       "      <td>1.0</td>\n",
       "      <td>807.0</td>\n",
       "      <td>NaN</td>\n",
       "      <td>1924.0</td>\n",
       "      <td>NaN</td>\n",
       "      <td>6037.0</td>\n",
       "      <td>261.0</td>\n",
       "      <td>12358588</td>\n",
       "    </tr>\n",
       "    <tr>\n",
       "      <th>32251</th>\n",
       "      <td>0.0</td>\n",
       "      <td>0.0</td>\n",
       "      <td>NaN</td>\n",
       "      <td>NaN</td>\n",
       "      <td>NaN</td>\n",
       "      <td>NaN</td>\n",
       "      <td>6037.0</td>\n",
       "      <td>261.0</td>\n",
       "      <td>12167950</td>\n",
       "    </tr>\n",
       "    <tr>\n",
       "      <th>32656</th>\n",
       "      <td>2.0</td>\n",
       "      <td>2.0</td>\n",
       "      <td>1650.0</td>\n",
       "      <td>NaN</td>\n",
       "      <td>1987.0</td>\n",
       "      <td>51.86</td>\n",
       "      <td>6111.0</td>\n",
       "      <td>261.0</td>\n",
       "      <td>17190855</td>\n",
       "    </tr>\n",
       "    <tr>\n",
       "      <th>...</th>\n",
       "      <td>...</td>\n",
       "      <td>...</td>\n",
       "      <td>...</td>\n",
       "      <td>...</td>\n",
       "      <td>...</td>\n",
       "      <td>...</td>\n",
       "      <td>...</td>\n",
       "      <td>...</td>\n",
       "      <td>...</td>\n",
       "    </tr>\n",
       "    <tr>\n",
       "      <th>2131494</th>\n",
       "      <td>0.0</td>\n",
       "      <td>0.0</td>\n",
       "      <td>NaN</td>\n",
       "      <td>NaN</td>\n",
       "      <td>NaN</td>\n",
       "      <td>NaN</td>\n",
       "      <td>6037.0</td>\n",
       "      <td>261.0</td>\n",
       "      <td>11131145</td>\n",
       "    </tr>\n",
       "    <tr>\n",
       "      <th>2142029</th>\n",
       "      <td>0.0</td>\n",
       "      <td>0.0</td>\n",
       "      <td>NaN</td>\n",
       "      <td>NaN</td>\n",
       "      <td>NaN</td>\n",
       "      <td>NaN</td>\n",
       "      <td>6037.0</td>\n",
       "      <td>261.0</td>\n",
       "      <td>12884901</td>\n",
       "    </tr>\n",
       "    <tr>\n",
       "      <th>2142113</th>\n",
       "      <td>3.0</td>\n",
       "      <td>2.0</td>\n",
       "      <td>1432.0</td>\n",
       "      <td>NaN</td>\n",
       "      <td>1991.0</td>\n",
       "      <td>NaN</td>\n",
       "      <td>6037.0</td>\n",
       "      <td>261.0</td>\n",
       "      <td>11832044</td>\n",
       "    </tr>\n",
       "    <tr>\n",
       "      <th>2142169</th>\n",
       "      <td>0.0</td>\n",
       "      <td>0.0</td>\n",
       "      <td>NaN</td>\n",
       "      <td>NaN</td>\n",
       "      <td>NaN</td>\n",
       "      <td>NaN</td>\n",
       "      <td>6037.0</td>\n",
       "      <td>261.0</td>\n",
       "      <td>11817802</td>\n",
       "    </tr>\n",
       "    <tr>\n",
       "      <th>2142173</th>\n",
       "      <td>0.0</td>\n",
       "      <td>0.0</td>\n",
       "      <td>NaN</td>\n",
       "      <td>NaN</td>\n",
       "      <td>NaN</td>\n",
       "      <td>NaN</td>\n",
       "      <td>6037.0</td>\n",
       "      <td>261.0</td>\n",
       "      <td>11131146</td>\n",
       "    </tr>\n",
       "  </tbody>\n",
       "</table>\n",
       "<p>493 rows × 9 columns</p>\n",
       "</div>"
      ],
      "text/plain": [
       "         bed  bath    sqft  assessed_worth    year  property_taxes  county  \\\n",
       "10694    0.0   0.0     NaN             NaN     NaN             NaN  6111.0   \n",
       "10779    0.0   0.0     NaN             NaN     NaN             NaN  6111.0   \n",
       "26588    3.0   1.0   807.0             NaN  1924.0             NaN  6037.0   \n",
       "32251    0.0   0.0     NaN             NaN     NaN             NaN  6037.0   \n",
       "32656    2.0   2.0  1650.0             NaN  1987.0           51.86  6111.0   \n",
       "...      ...   ...     ...             ...     ...             ...     ...   \n",
       "2131494  0.0   0.0     NaN             NaN     NaN             NaN  6037.0   \n",
       "2142029  0.0   0.0     NaN             NaN     NaN             NaN  6037.0   \n",
       "2142113  3.0   2.0  1432.0             NaN  1991.0             NaN  6037.0   \n",
       "2142169  0.0   0.0     NaN             NaN     NaN             NaN  6037.0   \n",
       "2142173  0.0   0.0     NaN             NaN     NaN             NaN  6037.0   \n",
       "\n",
       "           use  parcelid  \n",
       "10694    261.0  17247903  \n",
       "10779    261.0  17196455  \n",
       "26588    261.0  12358588  \n",
       "32251    261.0  12167950  \n",
       "32656    261.0  17190855  \n",
       "...        ...       ...  \n",
       "2131494  261.0  11131145  \n",
       "2142029  261.0  12884901  \n",
       "2142113  261.0  11832044  \n",
       "2142169  261.0  11817802  \n",
       "2142173  261.0  11131146  \n",
       "\n",
       "[493 rows x 9 columns]"
      ]
     },
     "execution_count": 17,
     "metadata": {},
     "output_type": "execute_result"
    }
   ],
   "source": [
    "# let's double check\n",
    "df[df.assessed_worth.isnull()]\n",
    "# yep. 493 NaN's. These likely have not been assessed yet..."
   ]
  },
  {
   "cell_type": "code",
   "execution_count": 18,
   "id": "ef03310e-5a85-4faa-b2cc-698ebf591b17",
   "metadata": {},
   "outputs": [],
   "source": [
    "# since we are trying to predict home value, it doesn't make sense to include properties\n",
    "# that haven't been assessed yet. DROP."
   ]
  },
  {
   "cell_type": "code",
   "execution_count": 19,
   "id": "702f4040-4106-4fba-8be4-edf0b01dfe9a",
   "metadata": {},
   "outputs": [
    {
     "data": {
      "text/plain": [
       "dtype('float64')"
      ]
     },
     "execution_count": 19,
     "metadata": {},
     "output_type": "execute_result"
    }
   ],
   "source": [
    "# money is float - keep as float\n",
    "df.assessed_worth.dtypes"
   ]
  },
  {
   "cell_type": "markdown",
   "id": "8ffa7684-d5e2-496e-b481-3e805f839230",
   "metadata": {},
   "source": [
    "> #### year"
   ]
  },
  {
   "cell_type": "code",
   "execution_count": 20,
   "id": "a8c70980-0e6a-4139-ba11-7817684741b7",
   "metadata": {},
   "outputs": [
    {
     "data": {
      "text/plain": [
       "1955.0    84405\n",
       "1950.0    71693\n",
       "1954.0    69163\n",
       "1953.0    62342\n",
       "1956.0    61942\n",
       "          ...  \n",
       "1823.0        1\n",
       "1855.0        1\n",
       "1833.0        1\n",
       "1840.0        1\n",
       "1874.0        1\n",
       "Name: year, Length: 154, dtype: int64"
      ]
     },
     "execution_count": 20,
     "metadata": {},
     "output_type": "execute_result"
    }
   ],
   "source": [
    "# no nulls again? not likely.\n",
    "df.year.value_counts(dropna=False)"
   ]
  },
  {
   "cell_type": "code",
   "execution_count": 21,
   "id": "e762c779-a45e-4318-b948-27058d4b9ff1",
   "metadata": {},
   "outputs": [
    {
     "data": {
      "text/html": [
       "<div>\n",
       "<style scoped>\n",
       "    .dataframe tbody tr th:only-of-type {\n",
       "        vertical-align: middle;\n",
       "    }\n",
       "\n",
       "    .dataframe tbody tr th {\n",
       "        vertical-align: top;\n",
       "    }\n",
       "\n",
       "    .dataframe thead th {\n",
       "        text-align: right;\n",
       "    }\n",
       "</style>\n",
       "<table border=\"1\" class=\"dataframe\">\n",
       "  <thead>\n",
       "    <tr style=\"text-align: right;\">\n",
       "      <th></th>\n",
       "      <th>bed</th>\n",
       "      <th>bath</th>\n",
       "      <th>sqft</th>\n",
       "      <th>assessed_worth</th>\n",
       "      <th>year</th>\n",
       "      <th>property_taxes</th>\n",
       "      <th>county</th>\n",
       "      <th>use</th>\n",
       "      <th>parcelid</th>\n",
       "    </tr>\n",
       "  </thead>\n",
       "  <tbody>\n",
       "    <tr>\n",
       "      <th>0</th>\n",
       "      <td>0.0</td>\n",
       "      <td>0.0</td>\n",
       "      <td>NaN</td>\n",
       "      <td>27516.0</td>\n",
       "      <td>NaN</td>\n",
       "      <td>NaN</td>\n",
       "      <td>6037.0</td>\n",
       "      <td>261.0</td>\n",
       "      <td>10759547</td>\n",
       "    </tr>\n",
       "    <tr>\n",
       "      <th>1</th>\n",
       "      <td>0.0</td>\n",
       "      <td>0.0</td>\n",
       "      <td>NaN</td>\n",
       "      <td>10.0</td>\n",
       "      <td>NaN</td>\n",
       "      <td>NaN</td>\n",
       "      <td>6037.0</td>\n",
       "      <td>261.0</td>\n",
       "      <td>11193347</td>\n",
       "    </tr>\n",
       "    <tr>\n",
       "      <th>2</th>\n",
       "      <td>0.0</td>\n",
       "      <td>0.0</td>\n",
       "      <td>NaN</td>\n",
       "      <td>10.0</td>\n",
       "      <td>NaN</td>\n",
       "      <td>NaN</td>\n",
       "      <td>6037.0</td>\n",
       "      <td>261.0</td>\n",
       "      <td>11215747</td>\n",
       "    </tr>\n",
       "    <tr>\n",
       "      <th>3</th>\n",
       "      <td>0.0</td>\n",
       "      <td>0.0</td>\n",
       "      <td>NaN</td>\n",
       "      <td>2108.0</td>\n",
       "      <td>NaN</td>\n",
       "      <td>174.21</td>\n",
       "      <td>6037.0</td>\n",
       "      <td>261.0</td>\n",
       "      <td>11229347</td>\n",
       "    </tr>\n",
       "    <tr>\n",
       "      <th>5</th>\n",
       "      <td>0.0</td>\n",
       "      <td>0.0</td>\n",
       "      <td>NaN</td>\n",
       "      <td>124.0</td>\n",
       "      <td>NaN</td>\n",
       "      <td>NaN</td>\n",
       "      <td>6037.0</td>\n",
       "      <td>261.0</td>\n",
       "      <td>11457547</td>\n",
       "    </tr>\n",
       "    <tr>\n",
       "      <th>...</th>\n",
       "      <td>...</td>\n",
       "      <td>...</td>\n",
       "      <td>...</td>\n",
       "      <td>...</td>\n",
       "      <td>...</td>\n",
       "      <td>...</td>\n",
       "      <td>...</td>\n",
       "      <td>...</td>\n",
       "      <td>...</td>\n",
       "    </tr>\n",
       "    <tr>\n",
       "      <th>2152823</th>\n",
       "      <td>0.0</td>\n",
       "      <td>0.0</td>\n",
       "      <td>NaN</td>\n",
       "      <td>2568893.0</td>\n",
       "      <td>NaN</td>\n",
       "      <td>27309.30</td>\n",
       "      <td>6059.0</td>\n",
       "      <td>261.0</td>\n",
       "      <td>13889389</td>\n",
       "    </tr>\n",
       "    <tr>\n",
       "      <th>2152844</th>\n",
       "      <td>0.0</td>\n",
       "      <td>0.0</td>\n",
       "      <td>NaN</td>\n",
       "      <td>92679.0</td>\n",
       "      <td>NaN</td>\n",
       "      <td>1090.16</td>\n",
       "      <td>6111.0</td>\n",
       "      <td>261.0</td>\n",
       "      <td>17204623</td>\n",
       "    </tr>\n",
       "    <tr>\n",
       "      <th>2152854</th>\n",
       "      <td>0.0</td>\n",
       "      <td>0.0</td>\n",
       "      <td>NaN</td>\n",
       "      <td>1198476.0</td>\n",
       "      <td>NaN</td>\n",
       "      <td>NaN</td>\n",
       "      <td>6037.0</td>\n",
       "      <td>261.0</td>\n",
       "      <td>11477607</td>\n",
       "    </tr>\n",
       "    <tr>\n",
       "      <th>2152857</th>\n",
       "      <td>0.0</td>\n",
       "      <td>0.0</td>\n",
       "      <td>NaN</td>\n",
       "      <td>1087111.0</td>\n",
       "      <td>NaN</td>\n",
       "      <td>19313.08</td>\n",
       "      <td>6059.0</td>\n",
       "      <td>261.0</td>\n",
       "      <td>14359297</td>\n",
       "    </tr>\n",
       "    <tr>\n",
       "      <th>2152860</th>\n",
       "      <td>0.0</td>\n",
       "      <td>0.0</td>\n",
       "      <td>NaN</td>\n",
       "      <td>208057.0</td>\n",
       "      <td>NaN</td>\n",
       "      <td>5783.88</td>\n",
       "      <td>6059.0</td>\n",
       "      <td>261.0</td>\n",
       "      <td>14356183</td>\n",
       "    </tr>\n",
       "  </tbody>\n",
       "</table>\n",
       "<p>9337 rows × 9 columns</p>\n",
       "</div>"
      ],
      "text/plain": [
       "         bed  bath  sqft  assessed_worth  year  property_taxes  county    use  \\\n",
       "0        0.0   0.0   NaN         27516.0   NaN             NaN  6037.0  261.0   \n",
       "1        0.0   0.0   NaN            10.0   NaN             NaN  6037.0  261.0   \n",
       "2        0.0   0.0   NaN            10.0   NaN             NaN  6037.0  261.0   \n",
       "3        0.0   0.0   NaN          2108.0   NaN          174.21  6037.0  261.0   \n",
       "5        0.0   0.0   NaN           124.0   NaN             NaN  6037.0  261.0   \n",
       "...      ...   ...   ...             ...   ...             ...     ...    ...   \n",
       "2152823  0.0   0.0   NaN       2568893.0   NaN        27309.30  6059.0  261.0   \n",
       "2152844  0.0   0.0   NaN         92679.0   NaN         1090.16  6111.0  261.0   \n",
       "2152854  0.0   0.0   NaN       1198476.0   NaN             NaN  6037.0  261.0   \n",
       "2152857  0.0   0.0   NaN       1087111.0   NaN        19313.08  6059.0  261.0   \n",
       "2152860  0.0   0.0   NaN        208057.0   NaN         5783.88  6059.0  261.0   \n",
       "\n",
       "         parcelid  \n",
       "0        10759547  \n",
       "1        11193347  \n",
       "2        11215747  \n",
       "3        11229347  \n",
       "5        11457547  \n",
       "...           ...  \n",
       "2152823  13889389  \n",
       "2152844  17204623  \n",
       "2152854  11477607  \n",
       "2152857  14359297  \n",
       "2152860  14356183  \n",
       "\n",
       "[9337 rows x 9 columns]"
      ]
     },
     "execution_count": 21,
     "metadata": {},
     "output_type": "execute_result"
    }
   ],
   "source": [
    "# null/NaN check\n",
    "df[df.year.isnull()]\n",
    "# 9,337 rows are NaN's....dropppp"
   ]
  },
  {
   "cell_type": "code",
   "execution_count": 22,
   "id": "49615f5a-39ea-4cf9-84e0-1962ea7fb204",
   "metadata": {},
   "outputs": [
    {
     "data": {
      "text/plain": [
       "dtype('float64')"
      ]
     },
     "execution_count": 22,
     "metadata": {},
     "output_type": "execute_result"
    }
   ],
   "source": [
    "# data types\n",
    "df.year.dtypes"
   ]
  },
  {
   "cell_type": "markdown",
   "id": "b99a080b-a5dc-4c42-8bab-61839b9c1484",
   "metadata": {},
   "source": [
    "> #### property_taxes\n",
    "* property taxes amount in dollars"
   ]
  },
  {
   "cell_type": "code",
   "execution_count": 23,
   "id": "525e003a-372d-4dbe-b43b-61be80a75814",
   "metadata": {},
   "outputs": [
    {
     "data": {
      "text/plain": [
       "NaN         4442\n",
       "345.72       172\n",
       "344.18        77\n",
       "343.52        75\n",
       "285.30        67\n",
       "            ... \n",
       "4200.22        1\n",
       "5609.30        1\n",
       "4037.26        1\n",
       "14932.56       1\n",
       "13494.52       1\n",
       "Name: property_taxes, Length: 918839, dtype: int64"
      ]
     },
     "execution_count": 23,
     "metadata": {},
     "output_type": "execute_result"
    }
   ],
   "source": [
    "# looking at the data, NaN's...4,442\n",
    "df.property_taxes.value_counts(dropna=False)"
   ]
  },
  {
   "cell_type": "code",
   "execution_count": 24,
   "id": "fe1dcf59-8159-426e-8962-bdee9fc82e00",
   "metadata": {},
   "outputs": [
    {
     "data": {
      "text/html": [
       "<div>\n",
       "<style scoped>\n",
       "    .dataframe tbody tr th:only-of-type {\n",
       "        vertical-align: middle;\n",
       "    }\n",
       "\n",
       "    .dataframe tbody tr th {\n",
       "        vertical-align: top;\n",
       "    }\n",
       "\n",
       "    .dataframe thead th {\n",
       "        text-align: right;\n",
       "    }\n",
       "</style>\n",
       "<table border=\"1\" class=\"dataframe\">\n",
       "  <thead>\n",
       "    <tr style=\"text-align: right;\">\n",
       "      <th></th>\n",
       "      <th>bed</th>\n",
       "      <th>bath</th>\n",
       "      <th>sqft</th>\n",
       "      <th>assessed_worth</th>\n",
       "      <th>year</th>\n",
       "      <th>property_taxes</th>\n",
       "      <th>county</th>\n",
       "      <th>use</th>\n",
       "      <th>parcelid</th>\n",
       "    </tr>\n",
       "  </thead>\n",
       "  <tbody>\n",
       "    <tr>\n",
       "      <th>0</th>\n",
       "      <td>0.0</td>\n",
       "      <td>0.0</td>\n",
       "      <td>NaN</td>\n",
       "      <td>27516.0</td>\n",
       "      <td>NaN</td>\n",
       "      <td>NaN</td>\n",
       "      <td>6037.0</td>\n",
       "      <td>261.0</td>\n",
       "      <td>10759547</td>\n",
       "    </tr>\n",
       "    <tr>\n",
       "      <th>1</th>\n",
       "      <td>0.0</td>\n",
       "      <td>0.0</td>\n",
       "      <td>NaN</td>\n",
       "      <td>10.0</td>\n",
       "      <td>NaN</td>\n",
       "      <td>NaN</td>\n",
       "      <td>6037.0</td>\n",
       "      <td>261.0</td>\n",
       "      <td>11193347</td>\n",
       "    </tr>\n",
       "    <tr>\n",
       "      <th>2</th>\n",
       "      <td>0.0</td>\n",
       "      <td>0.0</td>\n",
       "      <td>NaN</td>\n",
       "      <td>10.0</td>\n",
       "      <td>NaN</td>\n",
       "      <td>NaN</td>\n",
       "      <td>6037.0</td>\n",
       "      <td>261.0</td>\n",
       "      <td>11215747</td>\n",
       "    </tr>\n",
       "    <tr>\n",
       "      <th>5</th>\n",
       "      <td>0.0</td>\n",
       "      <td>0.0</td>\n",
       "      <td>NaN</td>\n",
       "      <td>124.0</td>\n",
       "      <td>NaN</td>\n",
       "      <td>NaN</td>\n",
       "      <td>6037.0</td>\n",
       "      <td>261.0</td>\n",
       "      <td>11457547</td>\n",
       "    </tr>\n",
       "    <tr>\n",
       "      <th>10</th>\n",
       "      <td>0.0</td>\n",
       "      <td>0.0</td>\n",
       "      <td>NaN</td>\n",
       "      <td>11009.0</td>\n",
       "      <td>NaN</td>\n",
       "      <td>NaN</td>\n",
       "      <td>6037.0</td>\n",
       "      <td>261.0</td>\n",
       "      <td>11818747</td>\n",
       "    </tr>\n",
       "    <tr>\n",
       "      <th>...</th>\n",
       "      <td>...</td>\n",
       "      <td>...</td>\n",
       "      <td>...</td>\n",
       "      <td>...</td>\n",
       "      <td>...</td>\n",
       "      <td>...</td>\n",
       "      <td>...</td>\n",
       "      <td>...</td>\n",
       "      <td>...</td>\n",
       "    </tr>\n",
       "    <tr>\n",
       "      <th>2149353</th>\n",
       "      <td>0.0</td>\n",
       "      <td>0.0</td>\n",
       "      <td>324.0</td>\n",
       "      <td>15659.0</td>\n",
       "      <td>1946.0</td>\n",
       "      <td>NaN</td>\n",
       "      <td>6037.0</td>\n",
       "      <td>261.0</td>\n",
       "      <td>13015962</td>\n",
       "    </tr>\n",
       "    <tr>\n",
       "      <th>2151358</th>\n",
       "      <td>2.0</td>\n",
       "      <td>1.5</td>\n",
       "      <td>1482.0</td>\n",
       "      <td>169038.0</td>\n",
       "      <td>1954.0</td>\n",
       "      <td>NaN</td>\n",
       "      <td>6059.0</td>\n",
       "      <td>261.0</td>\n",
       "      <td>14255978</td>\n",
       "    </tr>\n",
       "    <tr>\n",
       "      <th>2152488</th>\n",
       "      <td>3.0</td>\n",
       "      <td>2.0</td>\n",
       "      <td>992.0</td>\n",
       "      <td>104040.0</td>\n",
       "      <td>2001.0</td>\n",
       "      <td>NaN</td>\n",
       "      <td>6037.0</td>\n",
       "      <td>261.0</td>\n",
       "      <td>12210086</td>\n",
       "    </tr>\n",
       "    <tr>\n",
       "      <th>2152503</th>\n",
       "      <td>3.0</td>\n",
       "      <td>1.0</td>\n",
       "      <td>1894.0</td>\n",
       "      <td>179732.0</td>\n",
       "      <td>NaN</td>\n",
       "      <td>NaN</td>\n",
       "      <td>6037.0</td>\n",
       "      <td>261.0</td>\n",
       "      <td>11782408</td>\n",
       "    </tr>\n",
       "    <tr>\n",
       "      <th>2152854</th>\n",
       "      <td>0.0</td>\n",
       "      <td>0.0</td>\n",
       "      <td>NaN</td>\n",
       "      <td>1198476.0</td>\n",
       "      <td>NaN</td>\n",
       "      <td>NaN</td>\n",
       "      <td>6037.0</td>\n",
       "      <td>261.0</td>\n",
       "      <td>11477607</td>\n",
       "    </tr>\n",
       "  </tbody>\n",
       "</table>\n",
       "<p>4442 rows × 9 columns</p>\n",
       "</div>"
      ],
      "text/plain": [
       "         bed  bath    sqft  assessed_worth    year  property_taxes  county  \\\n",
       "0        0.0   0.0     NaN         27516.0     NaN             NaN  6037.0   \n",
       "1        0.0   0.0     NaN            10.0     NaN             NaN  6037.0   \n",
       "2        0.0   0.0     NaN            10.0     NaN             NaN  6037.0   \n",
       "5        0.0   0.0     NaN           124.0     NaN             NaN  6037.0   \n",
       "10       0.0   0.0     NaN         11009.0     NaN             NaN  6037.0   \n",
       "...      ...   ...     ...             ...     ...             ...     ...   \n",
       "2149353  0.0   0.0   324.0         15659.0  1946.0             NaN  6037.0   \n",
       "2151358  2.0   1.5  1482.0        169038.0  1954.0             NaN  6059.0   \n",
       "2152488  3.0   2.0   992.0        104040.0  2001.0             NaN  6037.0   \n",
       "2152503  3.0   1.0  1894.0        179732.0     NaN             NaN  6037.0   \n",
       "2152854  0.0   0.0     NaN       1198476.0     NaN             NaN  6037.0   \n",
       "\n",
       "           use  parcelid  \n",
       "0        261.0  10759547  \n",
       "1        261.0  11193347  \n",
       "2        261.0  11215747  \n",
       "5        261.0  11457547  \n",
       "10       261.0  11818747  \n",
       "...        ...       ...  \n",
       "2149353  261.0  13015962  \n",
       "2151358  261.0  14255978  \n",
       "2152488  261.0  12210086  \n",
       "2152503  261.0  11782408  \n",
       "2152854  261.0  11477607  \n",
       "\n",
       "[4442 rows x 9 columns]"
      ]
     },
     "execution_count": 24,
     "metadata": {},
     "output_type": "execute_result"
    }
   ],
   "source": [
    "# where are they and what do they look like?\n",
    "df[df.property_taxes.isnull()]"
   ]
  },
  {
   "cell_type": "markdown",
   "id": "cee45685-f478-426d-a567-73ac0948d271",
   "metadata": {},
   "source": [
    "> #### county = fips\n",
    "* county code identifier\n",
    "    * 6037 = Los Angeles County\n",
    "    * 6059 = Orange County\n",
    "    * 6111 = Ventura County"
   ]
  },
  {
   "cell_type": "code",
   "execution_count": 25,
   "id": "483e4a5f-f683-4743-8023-cbd785cfc98f",
   "metadata": {},
   "outputs": [
    {
     "data": {
      "text/plain": [
       "6037.0    1431811\n",
       "6059.0     555077\n",
       "6111.0     165975\n",
       "Name: county, dtype: int64"
      ]
     },
     "execution_count": 25,
     "metadata": {},
     "output_type": "execute_result"
    }
   ],
   "source": [
    "# look at the data\n",
    "df.county.value_counts(dropna=False)"
   ]
  },
  {
   "cell_type": "code",
   "execution_count": 26,
   "id": "70a320db-40fc-467e-887c-3cd6d4c4dd8b",
   "metadata": {},
   "outputs": [
    {
     "data": {
      "text/plain": [
       "dtype('float64')"
      ]
     },
     "execution_count": 26,
     "metadata": {},
     "output_type": "execute_result"
    }
   ],
   "source": [
    "# fips does not need to be a float, change to int\n",
    "df.county.dtypes"
   ]
  },
  {
   "cell_type": "code",
   "execution_count": 27,
   "id": "621b391e-b19f-4888-a72d-3360476378db",
   "metadata": {},
   "outputs": [],
   "source": [
    "df.county = df.county.map({6037:\"LA\", 6059:\"Orange\", 6111:\"Ventura\"})"
   ]
  },
  {
   "cell_type": "code",
   "execution_count": 28,
   "id": "99ffafe5-d844-442e-bb50-22b3d4b663d1",
   "metadata": {},
   "outputs": [
    {
     "data": {
      "text/plain": [
       "LA         1431811\n",
       "Orange      555077\n",
       "Ventura     165975\n",
       "Name: county, dtype: int64"
      ]
     },
     "execution_count": 28,
     "metadata": {},
     "output_type": "execute_result"
    }
   ],
   "source": [
    "df.county.value_counts()"
   ]
  },
  {
   "cell_type": "code",
   "execution_count": 29,
   "id": "50285e9f-abb4-444e-948d-1e13d9b67c57",
   "metadata": {},
   "outputs": [
    {
     "data": {
      "text/plain": [
       "bed               float64\n",
       "bath              float64\n",
       "sqft              float64\n",
       "assessed_worth    float64\n",
       "year              float64\n",
       "property_taxes    float64\n",
       "county             object\n",
       "use               float64\n",
       "parcelid            int64\n",
       "dtype: object"
      ]
     },
     "execution_count": 29,
     "metadata": {},
     "output_type": "execute_result"
    }
   ],
   "source": [
    "# verify\n",
    "df.dtypes"
   ]
  },
  {
   "cell_type": "markdown",
   "id": "84f97100-e8f5-40e4-be59-db093cac3288",
   "metadata": {},
   "source": [
    "> #### use\n",
    "* 261 = Single Family Residential"
   ]
  },
  {
   "cell_type": "code",
   "execution_count": 30,
   "id": "6f3e2557-5d09-45e3-b5af-515c71e9b018",
   "metadata": {},
   "outputs": [
    {
     "data": {
      "text/plain": [
       "261.0    2152863\n",
       "Name: use, dtype: int64"
      ]
     },
     "execution_count": 30,
     "metadata": {},
     "output_type": "execute_result"
    }
   ],
   "source": [
    "# look at the data\n",
    "df.use.value_counts(dropna=False)"
   ]
  },
  {
   "cell_type": "code",
   "execution_count": 31,
   "id": "03f22531-115e-455d-a023-f1573041ffb7",
   "metadata": {},
   "outputs": [
    {
     "data": {
      "text/plain": [
       "(2152863, 9)"
      ]
     },
     "execution_count": 31,
     "metadata": {},
     "output_type": "execute_result"
    }
   ],
   "source": [
    "# matches shape, nothing weird here\n",
    "df.shape"
   ]
  },
  {
   "cell_type": "code",
   "execution_count": 32,
   "id": "5ac235ff-6db3-4554-9a0f-e8c5f93984d3",
   "metadata": {},
   "outputs": [
    {
     "data": {
      "text/plain": [
       "dtype('float64')"
      ]
     },
     "execution_count": 32,
     "metadata": {},
     "output_type": "execute_result"
    }
   ],
   "source": [
    "# doesn't make sense to be a float\n",
    "df.use.dtypes"
   ]
  },
  {
   "cell_type": "code",
   "execution_count": 33,
   "id": "2cd11503-3fa6-43bc-af85-48c26a61613c",
   "metadata": {},
   "outputs": [],
   "source": [
    "# change from float to int\n",
    "df.use = df.use.astype(int)\n",
    "# CATEGORICAL!"
   ]
  },
  {
   "cell_type": "code",
   "execution_count": 34,
   "id": "e7871f8a-9a66-4b06-98da-9dfcabc8f232",
   "metadata": {},
   "outputs": [
    {
     "data": {
      "text/plain": [
       "bed               float64\n",
       "bath              float64\n",
       "sqft              float64\n",
       "assessed_worth    float64\n",
       "year              float64\n",
       "property_taxes    float64\n",
       "county             object\n",
       "use                 int64\n",
       "parcelid            int64\n",
       "dtype: object"
      ]
     },
     "execution_count": 34,
     "metadata": {},
     "output_type": "execute_result"
    }
   ],
   "source": [
    "# verify\n",
    "df.dtypes"
   ]
  },
  {
   "cell_type": "markdown",
   "id": "acefec15-e9b5-42f0-a883-3dd053a2f5a4",
   "metadata": {},
   "source": [
    "> #### parcelid\n",
    "* primary key"
   ]
  },
  {
   "cell_type": "code",
   "execution_count": 35,
   "id": "74cc6ef4-2a0b-4156-8071-e0692050847c",
   "metadata": {},
   "outputs": [
    {
     "data": {
      "text/plain": [
       "10759547    1\n",
       "11586173    1\n",
       "11583340    1\n",
       "11581347    1\n",
       "11581247    1\n",
       "           ..\n",
       "12884534    1\n",
       "12884343    1\n",
       "12882782    1\n",
       "12882636    1\n",
       "12385768    1\n",
       "Name: parcelid, Length: 2152863, dtype: int64"
      ]
     },
     "execution_count": 35,
     "metadata": {},
     "output_type": "execute_result"
    }
   ],
   "source": [
    "# look at the data\n",
    "df.parcelid.value_counts(dropna=False)"
   ]
  },
  {
   "cell_type": "code",
   "execution_count": 36,
   "id": "be78416b-bb8c-4a19-bf63-337439e26605",
   "metadata": {},
   "outputs": [
    {
     "data": {
      "text/plain": [
       "0"
      ]
     },
     "execution_count": 36,
     "metadata": {},
     "output_type": "execute_result"
    }
   ],
   "source": [
    "# verify no nulls - checked\n",
    "df.parcelid.isnull().sum()"
   ]
  },
  {
   "cell_type": "code",
   "execution_count": 37,
   "id": "f6b0203f-98d9-4dab-99f5-268f264c54b5",
   "metadata": {},
   "outputs": [
    {
     "data": {
      "text/plain": [
       "dtype('int64')"
      ]
     },
     "execution_count": 37,
     "metadata": {},
     "output_type": "execute_result"
    }
   ],
   "source": [
    "# dtype\n",
    "df.parcelid.dtypes\n",
    "# perfect, leave it"
   ]
  },
  {
   "cell_type": "code",
   "execution_count": 38,
   "id": "8c36a122-dee2-4563-bbc3-0e2c29deb5d9",
   "metadata": {},
   "outputs": [],
   "source": [
    "# test wrangle_zillow in seperate notebook\n",
    "# test successful!\n",
    "# will overwrite previous df"
   ]
  },
  {
   "cell_type": "code",
   "execution_count": 39,
   "id": "02837304-cdb8-4a28-ab6e-d959bc6c86b1",
   "metadata": {},
   "outputs": [
    {
     "data": {
      "text/plain": [
       "bed               float64\n",
       "bath              float64\n",
       "sqft              float64\n",
       "assessed_worth    float64\n",
       "year              float64\n",
       "property_taxes    float64\n",
       "county             object\n",
       "use                 int64\n",
       "parcelid            int64\n",
       "dtype: object"
      ]
     },
     "execution_count": 39,
     "metadata": {},
     "output_type": "execute_result"
    }
   ],
   "source": [
    "df.dtypes"
   ]
  },
  {
   "cell_type": "markdown",
   "id": "ed3a769b-c19a-4efc-b75e-0411bbcaed68",
   "metadata": {
    "jp-MarkdownHeadingCollapsed": true,
    "tags": []
   },
   "source": [
    "## <div class=\"alert alert-block alert-info\"> Explore<div>\n",
    "\n",
    "Goals:\n",
    "\n",
    "* drop nulls\n",
    "    * check proportion of remaining data against original data\n",
    "* check for duplicates\n",
    "* identify trends\n",
    "* make note of related columns\n",
    "* view potential bin sizes\n",
    "* to predict the values of single unit properties using the obervations from 2017."
   ]
  },
  {
   "cell_type": "code",
   "execution_count": 40,
   "id": "132d22e6-e072-4e5a-9d5b-1f97aadc1e86",
   "metadata": {},
   "outputs": [],
   "source": [
    "# dropping all nulls to prepare for explore and saving to a clean df\n",
    "df_clean = df.dropna()"
   ]
  },
  {
   "cell_type": "code",
   "execution_count": 41,
   "id": "e378b695-529f-4cee-9e38-3bda7ba8b8aa",
   "metadata": {},
   "outputs": [
    {
     "name": "stdout",
     "output_type": "stream",
     "text": [
      " Percent Original Data Remaining: 99.0\n"
     ]
    }
   ],
   "source": [
    "# checking proportion of clean df remaining after dropping nulls\n",
    "print(f\" Percent Original Data Remaining: {round(df_clean.shape[0]/df.shape[0]*100,0)}\")"
   ]
  },
  {
   "cell_type": "code",
   "execution_count": 42,
   "id": "565e57f4-8c14-4133-90ac-3596e74e6e7b",
   "metadata": {},
   "outputs": [
    {
     "data": {
      "text/plain": [
       "11324547    1\n",
       "11560087    1\n",
       "11559344    1\n",
       "11559052    1\n",
       "11559029    1\n",
       "           ..\n",
       "12886245    1\n",
       "12885823    1\n",
       "12885739    1\n",
       "12884846    1\n",
       "12385768    1\n",
       "Name: parcelid, Length: 2140235, dtype: int64"
      ]
     },
     "execution_count": 42,
     "metadata": {},
     "output_type": "execute_result"
    }
   ],
   "source": [
    "# checking for duplicate parcel ids - none found\n",
    "df_clean.parcelid.value_counts(dropna=False, sort=True)"
   ]
  },
  {
   "cell_type": "markdown",
   "id": "ea1cd916-caed-47a9-9c46-4887b1804a4e",
   "metadata": {},
   "source": [
    "> #### univariate exploration"
   ]
  },
  {
   "cell_type": "code",
   "execution_count": 43,
   "id": "d1a3f38b-594e-41ca-9744-5bef6990cc8f",
   "metadata": {},
   "outputs": [
    {
     "data": {
      "image/png": "[encoded data removed]",
      "text/plain": [
       "<Figure size 1200x600 with 9 Axes>"
      ]
     },
     "metadata": {},
     "output_type": "display_data"
    }
   ],
   "source": [
    "# histogram overview look of not cleaned DF\n",
    "ex.hist_zillow(df)"
   ]
  },
  {
   "cell_type": "code",
   "execution_count": 44,
   "id": "9a45f6e5-13c0-46ea-b069-ddb15c17a776",
   "metadata": {},
   "outputs": [
    {
     "data": {
      "image/png": "[encoded data removed]",
      "text/plain": [
       "<Figure size 1200x600 with 9 Axes>"
      ]
     },
     "metadata": {},
     "output_type": "display_data"
    }
   ],
   "source": [
    "# histogram overview look of cleaned DF\n",
    "ex.hist_zillow(df_clean)"
   ]
  },
  {
   "cell_type": "code",
   "execution_count": 45,
   "id": "18b85433-3dd0-4a10-ac1a-0eadd6fb459e",
   "metadata": {},
   "outputs": [
    {
     "name": "stdout",
     "output_type": "stream",
     "text": [
      "bed\n"
     ]
    },
    {
     "data": {
      "image/png": "[encoded data removed]",
      "text/plain": [
       "<Figure size 640x480 with 1 Axes>"
      ]
     },
     "metadata": {},
     "output_type": "display_data"
    },
    {
     "name": "stdout",
     "output_type": "stream",
     "text": [
      "0.0      13187\n",
      "1.0      23166\n",
      "2.0     335473\n",
      "3.0     964298\n",
      "4.0     634289\n",
      "5.0     150866\n",
      "6.0      25166\n",
      "7.0       4807\n",
      "8.0       1107\n",
      "9.0        291\n",
      "10.0       121\n",
      "11.0        34\n",
      "12.0        12\n",
      "13.0        16\n",
      "14.0         7\n",
      "15.0         6\n",
      "16.0         2\n",
      "18.0         3\n",
      "25.0         1\n",
      "Name: bed, dtype: int64\n",
      "\n",
      "bath\n"
     ]
    },
    {
     "data": {
      "image/png": "[encoded data removed]",
      "text/plain": [
       "<Figure size 640x480 with 1 Axes>"
      ]
     },
     "metadata": {},
     "output_type": "display_data"
    },
    {
     "name": "stdout",
     "output_type": "stream",
     "text": [
      "0.00      13027\n",
      "0.50         16\n",
      "1.00     414324\n",
      "1.50      31211\n",
      "1.75          3\n",
      "2.00     943589\n",
      "2.50     142981\n",
      "3.00     422841\n",
      "3.50      28518\n",
      "4.00      82155\n",
      "4.50      19506\n",
      "5.00      28362\n",
      "5.50       6217\n",
      "6.00      10747\n",
      "6.50       1333\n",
      "7.00       4394\n",
      "7.50        384\n",
      "8.00       1692\n",
      "8.50        110\n",
      "9.00        713\n",
      "9.50         50\n",
      "10.00       325\n",
      "10.50        14\n",
      "11.00       146\n",
      "11.50         3\n",
      "12.00        73\n",
      "12.50         3\n",
      "13.00        39\n",
      "14.00        25\n",
      "14.50         1\n",
      "15.00        17\n",
      "16.00        12\n",
      "17.00         4\n",
      "18.00         8\n",
      "19.00         1\n",
      "19.50         1\n",
      "20.00         6\n",
      "32.00         1\n",
      "Name: bath, dtype: int64\n",
      "\n",
      "sqft\n"
     ]
    },
    {
     "data": {
      "image/png": "[encoded data removed]",
      "text/plain": [
       "<Figure size 640x480 with 1 Axes>"
      ]
     },
     "metadata": {},
     "output_type": "display_data"
    },
    {
     "name": "stdout",
     "output_type": "stream",
     "text": [
      "1.0         6\n",
      "2.0         2\n",
      "3.0         7\n",
      "7.0         1\n",
      "10.0        2\n",
      "           ..\n",
      "52503.0     1\n",
      "59220.0     1\n",
      "63692.0     1\n",
      "531118.0    1\n",
      "952576.0    1\n",
      "Name: sqft, Length: 10580, dtype: int64\n",
      "\n",
      "assessed_worth\n"
     ]
    },
    {
     "data": {
      "image/png": "[encoded data removed]",
      "text/plain": [
       "<Figure size 640x480 with 1 Axes>"
      ]
     },
     "metadata": {},
     "output_type": "display_data"
    },
    {
     "name": "stdout",
     "output_type": "stream",
     "text": [
      "1.0           3\n",
      "2.0           1\n",
      "4.0           2\n",
      "5.0           4\n",
      "6.0           1\n",
      "             ..\n",
      "71067500.0    1\n",
      "83196095.0    1\n",
      "88020448.0    1\n",
      "90188462.0    1\n",
      "98428909.0    1\n",
      "Name: assessed_worth, Length: 592269, dtype: int64\n",
      "\n",
      "year\n"
     ]
    },
    {
     "data": {
      "image/png": "[encoded data removed]",
      "text/plain": [
       "<Figure size 640x480 with 1 Axes>"
      ]
     },
     "metadata": {},
     "output_type": "display_data"
    },
    {
     "name": "stdout",
     "output_type": "stream",
     "text": [
      "1801.0       3\n",
      "1807.0       1\n",
      "1812.0       2\n",
      "1823.0       1\n",
      "1833.0       1\n",
      "          ... \n",
      "2012.0    3438\n",
      "2013.0    4784\n",
      "2014.0    4714\n",
      "2015.0    3556\n",
      "2016.0      98\n",
      "Name: year, Length: 153, dtype: int64\n",
      "\n",
      "property_taxes\n"
     ]
    },
    {
     "data": {
      "image/png": "[encoded data removed]",
      "text/plain": [
       "<Figure size 640x480 with 1 Axes>"
      ]
     },
     "metadata": {},
     "output_type": "display_data"
    },
    {
     "name": "stdout",
     "output_type": "stream",
     "text": [
      "1.85          1\n",
      "5.78          1\n",
      "6.00          1\n",
      "6.18          1\n",
      "6.34          1\n",
      "             ..\n",
      "1052070.50    1\n",
      "1078101.87    1\n",
      "1195295.62    1\n",
      "1310824.04    1\n",
      "1337755.86    1\n",
      "Name: property_taxes, Length: 918838, dtype: int64\n",
      "\n"
     ]
    }
   ],
   "source": [
    "# function to explore numerical univariate analysis\n",
    "ex.visual_explore_univariate(df)"
   ]
  },
  {
   "cell_type": "markdown",
   "id": "71403dea-406e-4cb9-b5d4-011278a204a3",
   "metadata": {},
   "source": [
    "> #### outliers"
   ]
  },
  {
   "cell_type": "code",
   "execution_count": 46,
   "id": "639809ff-9a21-4d7b-ad33-b1866c5f8d6d",
   "metadata": {},
   "outputs": [
    {
     "data": {
      "text/plain": [
       "1200.0     5184\n",
       "1080.0     4376\n",
       "1120.0     4354\n",
       "1400.0     3828\n",
       "1440.0     3684\n",
       "           ... \n",
       "10180.0       1\n",
       "13169.0       1\n",
       "9095.0        1\n",
       "10525.0       1\n",
       "24920.0       1\n",
       "Name: sqft, Length: 10557, dtype: int64"
      ]
     },
     "execution_count": 46,
     "metadata": {},
     "output_type": "execute_result"
    }
   ],
   "source": [
    "df_clean.sqft.value_counts()"
   ]
  },
  {
   "cell_type": "code",
   "execution_count": 47,
   "id": "0dc2809f-3b61-412f-9ea2-862919d03c0c",
   "metadata": {},
   "outputs": [
    {
     "data": {
      "text/plain": [
       "1863.1939702883094"
      ]
     },
     "execution_count": 47,
     "metadata": {},
     "output_type": "execute_result"
    }
   ],
   "source": [
    "# mean sqft of the data\n",
    "df_clean.sqft.mean()"
   ]
  },
  {
   "cell_type": "code",
   "execution_count": 48,
   "id": "a73f59f2-80f8-44f5-9d07-2a5907b61ab2",
   "metadata": {},
   "outputs": [],
   "source": [
    "# cutting out area outliers, keeping every sqft below 25,000\n",
    "df_clean = df_clean [df_clean.sqft < 25_000]"
   ]
  },
  {
   "cell_type": "code",
   "execution_count": 49,
   "id": "21cc5546-c3e6-4e8e-9861-3518e55b31ff",
   "metadata": {},
   "outputs": [
    {
     "data": {
      "text/plain": [
       "(2140189, 9)"
      ]
     },
     "execution_count": 49,
     "metadata": {},
     "output_type": "execute_result"
    }
   ],
   "source": [
    "# verifying proper cut\n",
    "df_clean.shape"
   ]
  },
  {
   "cell_type": "code",
   "execution_count": 50,
   "id": "65585c88-2f39-4c51-bd10-9c152e2b7768",
   "metadata": {},
   "outputs": [],
   "source": [
    "# cutting out value over 95th percentile\n",
    "df_clean = df_clean [df_clean.assessed_worth < df_clean.assessed_worth.quantile(.95)].copy()"
   ]
  },
  {
   "cell_type": "code",
   "execution_count": 51,
   "id": "7860f455-fe34-4e0d-99f8-037e1a3847d1",
   "metadata": {},
   "outputs": [
    {
     "data": {
      "text/plain": [
       "(2033172, 9)"
      ]
     },
     "execution_count": 51,
     "metadata": {},
     "output_type": "execute_result"
    }
   ],
   "source": [
    "# verifying cut\n",
    "df_clean.shape"
   ]
  },
  {
   "cell_type": "code",
   "execution_count": 52,
   "id": "37facc31-c8f8-49c2-825a-b3e38c3fbe71",
   "metadata": {},
   "outputs": [],
   "source": [
    "df_clean.insert(0, 'assessed_worth', df_clean.pop('assessed_worth'))"
   ]
  },
  {
   "cell_type": "markdown",
   "id": "6d5d4edf-5d8c-4cc4-899c-40894536d191",
   "metadata": {
    "jp-MarkdownHeadingCollapsed": true,
    "tags": []
   },
   "source": [
    "## <div class=\"alert alert-block alert-info\"> Splitting<div>"
   ]
  },
  {
   "cell_type": "code",
   "execution_count": 53,
   "id": "9dd9aca8-f6f4-42e7-b930-dd0193ca9f0e",
   "metadata": {},
   "outputs": [
    {
     "name": "stdout",
     "output_type": "stream",
     "text": [
      "Prepared DF: (2033172, 9)\n",
      "Train: (1219902, 9)\n",
      "Validate: (406635, 9)\n",
      "Test: (406635, 9)\n"
     ]
    }
   ],
   "source": [
    "# splitting into datasets, verifying with size\n",
    "train, validate, test = wr.split_zillow(df_clean)"
   ]
  },
  {
   "cell_type": "code",
   "execution_count": 54,
   "id": "a0b3ec3f-cd97-4976-b6f3-3b68abcdfc1c",
   "metadata": {},
   "outputs": [
    {
     "name": "stdout",
     "output_type": "stream",
     "text": [
      "Verifying number of features and target:\n",
      "Train: (9, 1)\n",
      "Validate: (9, 1)\n",
      "Test: (9, 1)\n"
     ]
    }
   ],
   "source": [
    "# X_train, X_validate, X_test\n",
    "X_train, y_train, X_validate, y_validate, X_test, y_test = wr.x_y_train_validate_test(train, validate, test, 'assessed_worth')"
   ]
  },
  {
   "cell_type": "code",
   "execution_count": 55,
   "id": "cbc34e09-74aa-4cef-8185-d46e43ea51cc",
   "metadata": {},
   "outputs": [],
   "source": [
    "# dropping columns (actually dropped in function but this is initial exploration)\n",
    "X_train.drop(columns=['county', 'use','parcelid'], inplace=True)\n",
    "X_validate.drop(columns=['county', 'use','parcelid'], inplace=True)\n",
    "X_test.drop(columns=['county', 'use','parcelid'], inplace=True)"
   ]
  },
  {
   "cell_type": "markdown",
   "id": "157862c3-11dc-44e2-b90b-9dcec6912226",
   "metadata": {
    "jp-MarkdownHeadingCollapsed": true,
    "tags": []
   },
   "source": [
    "## <div class=\"alert alert-block alert-info\"> Scaling<div>"
   ]
  },
  {
   "cell_type": "code",
   "execution_count": 56,
   "id": "7e6d4f86-6755-4951-b1bf-87231c64cfe9",
   "metadata": {},
   "outputs": [
    {
     "data": {
      "image/png": "[encoded data removed]",
      "text/plain": [
       "<Figure size 1300x800 with 6 Axes>"
      ]
     },
     "metadata": {},
     "output_type": "display_data"
    }
   ],
   "source": [
    "# scaling the data\n",
    "wr.scale_zillow(X_train, X_validate, X_test)"
   ]
  }
 ],
 "metadata": {
  "kernelspec": {
   "display_name": "Python 3 (ipykernel)",
   "language": "python",
   "name": "python3"
  },
  "language_info": {
   "codemirror_mode": {
    "name": "ipython",
    "version": 3
   },
   "file_extension": ".py",
   "mimetype": "text/x-python",
   "name": "python",
   "nbconvert_exporter": "python",
   "pygments_lexer": "ipython3",
   "version": "3.9.13"
  }
 },
 "nbformat": 4,
 "nbformat_minor": 5
}
